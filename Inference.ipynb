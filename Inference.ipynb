{
 "cells": [
  {
   "cell_type": "code",
   "execution_count": 5,
   "metadata": {},
   "outputs": [],
   "source": [
    "# -*- coding: utf-8 -*-\n",
    "\"\"\"\n",
    "Created on Wed Nov  2 13:13:28 2022\n",
    "\n",
    "@author: krish\n",
    "\"\"\"\n",
    "\n",
    "import torch\n",
    "import torchvision\n",
    "import numpy as np\n",
    "import cv2\n",
    "import pafy\n",
    "from time import time        "
   ]
  },
  {
   "cell_type": "code",
   "execution_count": 10,
   "metadata": {},
   "outputs": [],
   "source": [
    "class VehicleDetection: \n",
    "    '''Implements YOLO Model for Vehicle Detection\n",
    "    using OpenCV'''\n",
    "    \n",
    "    def __init__(self,url,model_name):\n",
    "        self.url = url\n",
    "        self.model = self.load_model(model_name)\n",
    "        self.classes = self.model.names\n",
    "        self.device = 'cuda' if torch.cuda.is_available() else 'cpu'\n",
    "        print(f\"Using device {self.device}\") \n",
    "        \n",
    "    def get_video_from_url(self):\n",
    "        return cv2.VideoCapture(self.url)\n",
    "    \n",
    "    def load_model(self,model_name):\n",
    "        if model_name:\n",
    "            model = torch.hub.load('ultralytics/yolov5','custom',path=model_name,force_reload=True)\n",
    "        else:\n",
    "            model = torch.hub.load('ultralytics/yolov5','yolov5s',pretrained=True)\n",
    "        return model\n",
    "    \n",
    "    def score_frame(self,frame):\n",
    "        self.model.to(self.device) \n",
    "        frame = [frame]\n",
    "        results = self.model(frame)\n",
    "        labels,cord = results.xyxyn[0][:,-1],results.xyxyn[0][:,:-1]\n",
    "        return labels,cord \n",
    "    \n",
    "    def class_to_label(self,x):\n",
    "        return self.classes[int(x)]\n",
    "    \n",
    "    def plot_boxes(self,results,frame):\n",
    "        labels,cord =results \n",
    "        n = len(labels)\n",
    "        x_shape,y_shape = frame.shape[1],frame.shape[0]\n",
    "        for i in range(n):\n",
    "            row = cord[i]\n",
    "            if row[4]>=0.3:\n",
    "                x1,y1,x2,y2 = int(row[0]*x_shape),int(row[1]*y_shape),int(row[2]*x_shape),int(row[3]*y_shape)\n",
    "                bgr = (0,0,255)\n",
    "                cv2.rectangle(frame,(x1,y1),(x2,y2),bgr,2)\n",
    "                cv2.putText(frame,self.class_to_label(labels[i]),(x1,y1),cv2.FONT_HERSHEY_COMPLEX,1.5,(0,255,0),2)\n",
    "                \n",
    "        return frame \n",
    "    \n",
    "    def __call__(self):\n",
    "        cap = self.get_video_from_url()\n",
    "        assert cap.isOpened()\n",
    "        while True:\n",
    "            ret,frame = cap.read()\n",
    "            assert ret\n",
    "            \n",
    "            frame = cv2.resize(frame,(416,416))\n",
    "            start_time= time()\n",
    "            results = self.score_frame(frame)\n",
    "            frame = self.plot_boxes(results,frame)\n",
    "            \n",
    "            end_time = time()\n",
    "            fps = 1/np.round(end_time-start_time,2)\n",
    "            \n",
    "            cv2.putText(frame,f'FPS: {int(fps)}',(20,70),cv2.FONT_HERSHEY_SIMPLEX,1.5,(0,255,0), 2)\n",
    "            cv2.imshow('DM PROJECT GROUP 1',frame)\n",
    "            \n",
    "            if cv2.waitKey(5) & 0xFF ==27:\n",
    "                break\n",
    "        cap.release()\n",
    "        "
   ]
  },
  {
   "cell_type": "code",
   "execution_count": 11,
   "metadata": {},
   "outputs": [
    {
     "name": "stderr",
     "output_type": "stream",
     "text": [
      "Downloading: \"https://github.com/ultralytics/yolov5/zipball/master\" to C:\\Users\\krish/.cache\\torch\\hub\\master.zip\n",
      "YOLOv5  2022-11-2 Python-3.8.5 torch-1.13.0+cpu CPU\n",
      "\n",
      "Fusing layers... \n",
      "YOLOv5s summary: 157 layers, 7023610 parameters, 0 gradients\n",
      "Adding AutoShape... \n"
     ]
    },
    {
     "name": "stdout",
     "output_type": "stream",
     "text": [
      "Using device cpu\n"
     ]
    }
   ],
   "source": [
    "detector = VehicleDetection(url=\"vehicle_moving.mp4\",model_name=\"best.pt\")\n",
    "detector()\n",
    "        "
   ]
  },
  {
   "cell_type": "code",
   "execution_count": null,
   "metadata": {},
   "outputs": [],
   "source": []
  }
 ],
 "metadata": {
  "kernelspec": {
   "display_name": "Python 3",
   "language": "python",
   "name": "python3"
  },
  "language_info": {
   "codemirror_mode": {
    "name": "ipython",
    "version": 3
   },
   "file_extension": ".py",
   "mimetype": "text/x-python",
   "name": "python",
   "nbconvert_exporter": "python",
   "pygments_lexer": "ipython3",
   "version": "3.8.5"
  }
 },
 "nbformat": 4,
 "nbformat_minor": 4
}
